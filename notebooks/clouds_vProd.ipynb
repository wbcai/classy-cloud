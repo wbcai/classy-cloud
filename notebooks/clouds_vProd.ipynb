{
 "cells": [
  {
   "cell_type": "code",
   "execution_count": 11,
   "metadata": {},
   "outputs": [],
   "source": [
    "import numpy as np\n",
    "import pandas as pd\n",
    "import sklearn\n",
    "from sklearn import model_selection\n",
    "from sklearn import linear_model\n",
    "from sklearn import metrics\n",
    "import datetime\n",
    "import yaml\n",
    "import pickle\n",
    "import requests\n",
    "from pathlib import Path"
   ]
  },
  {
   "cell_type": "code",
   "execution_count": 2,
   "metadata": {},
   "outputs": [
    {
     "data": {
      "text/plain": [
       "209266"
      ]
     },
     "execution_count": 2,
     "metadata": {},
     "output_type": "execute_result"
    }
   ],
   "source": [
    "url = \"https://archive.ics.uci.edu/ml/machine-learning-databases/undocumented/taylor/cloud.data\"\n",
    "r = requests.get(url, allow_redirects=True)\n",
    "\n",
    "open('cloud.data', 'wb').write(r.content)"
   ]
  },
  {
   "cell_type": "code",
   "execution_count": 66,
   "metadata": {},
   "outputs": [],
   "source": [
    " with open(\"config.yaml\", 'r') as f:\n",
    "        config = yaml.load(f, Loader=yaml.FullLoader)"
   ]
  },
  {
   "cell_type": "code",
   "execution_count": 53,
   "metadata": {},
   "outputs": [
    {
     "data": {
      "text/plain": [
       "{'test_size': 0.4, 'random_state': 423}"
      ]
     },
     "execution_count": 53,
     "metadata": {},
     "output_type": "execute_result"
    }
   ],
   "source": [
    "config['train_test_split']"
   ]
  },
  {
   "cell_type": "code",
   "execution_count": 11,
   "metadata": {},
   "outputs": [],
   "source": [
    "def load_data(filename, c1_start_ix, c1_end_ix, c2_start_ix, c2_end_ix):\n",
    "    \n",
    "    \"\"\"Create dataframe from cloud.data with two cloud classes\"\"\"\n",
    "    \n",
    "    # Parse data file\n",
    "    with open(filename,'r') as f:\n",
    "        data = [[s for s in line.split(' ') if s!=''] for line in f.readlines()]\n",
    "    \n",
    "    # Create DataFrame for first type of cloud\n",
    "    first_cloud = data[c1_start_ix:c1_end_ix]\n",
    "    first_cloud = [[float(s.replace('/n', '')) for s in cloud]\n",
    "                    for cloud in first_cloud]\n",
    "    first_cloud = pd.DataFrame(first_cloud, columns=columns)\n",
    "    first_cloud['class'] = np.zeros(len(first_cloud))\n",
    "    \n",
    "    # Create DataFrame for second type of cloud\n",
    "    second_cloud = data[c2_start_ix:c2_end_ix]\n",
    "    second_cloud = [[float(s.replace('/n', '')) for s in cloud]\n",
    "                    for cloud in second_cloud]\n",
    "    second_cloud = pd.DataFrame(second_cloud, columns=columns)\n",
    "    second_cloud['class'] = np.ones(len(second_cloud))\n",
    "    \n",
    "    # Final DataFrame with both types of clouds\n",
    "    data = pd.concat([first_cloud, second_cloud])\n",
    "    \n",
    "    return data"
   ]
  },
  {
   "cell_type": "code",
   "execution_count": 24,
   "metadata": {},
   "outputs": [],
   "source": [
    "def create_features(features):\n",
    "    \n",
    "    \"\"\"Create additional features\"\"\"\n",
    "    \n",
    "    features['visible_range'] = (features.visible_max - features.visible_min)\n",
    "    \n",
    "    features['visible_norm_range'] = (\n",
    "        features.visible_max - features.visible_min).divide(features.visible_mean)\n",
    "\n",
    "    features['log_entropy'] = features.visible_entropy.apply(np.log)\n",
    "\n",
    "    features['entropy_x_contrast'] = features.visible_contrast.multiply(\n",
    "        features.visible_entropy)\n",
    "\n",
    "    features['IR_range']  = features.IR_max - features.IR_min\n",
    "\n",
    "    features['IR_norm_range'] = (features.IR_max - features.IR_min).divide(\n",
    "        features.IR_mean)\n",
    "    \n",
    "    return features"
   ]
  },
  {
   "cell_type": "code",
   "execution_count": 19,
   "metadata": {},
   "outputs": [],
   "source": [
    "columns = ['visible_mean', 'visible_max', 'visible_min', \n",
    "           'visible_mean_distribution', 'visible_contrast', \n",
    "           'visible_entropy', 'visible_second_angular_momentum', \n",
    "           'IR_mean', 'IR_max', 'IR_min']"
   ]
  },
  {
   "cell_type": "code",
   "execution_count": 20,
   "metadata": {},
   "outputs": [],
   "source": [
    "test = load_data(config['data_ingestion']['filename'], \n",
    "                config['data_ingestion']['class1_start_ix'],\n",
    "                config['data_ingestion']['class1_end_ix'],\n",
    "                config['data_ingestion']['class2_start_ix'],\n",
    "                config['data_ingestion']['class2_end_ix'])"
   ]
  },
  {
   "cell_type": "code",
   "execution_count": 21,
   "metadata": {},
   "outputs": [],
   "source": [
    "features = test[columns]\n",
    "target = test[\"class\"]"
   ]
  },
  {
   "cell_type": "code",
   "execution_count": 26,
   "metadata": {},
   "outputs": [],
   "source": [
    "features = create_features(features)"
   ]
  },
  {
   "cell_type": "code",
   "execution_count": 55,
   "metadata": {},
   "outputs": [],
   "source": [
    "x_train, x_test, y_train, y_test = model_selection.train_test_split(\n",
    "    features, target, **config['train_test_split'])"
   ]
  },
  {
   "cell_type": "code",
   "execution_count": 67,
   "metadata": {},
   "outputs": [],
   "source": [
    "lr = linear_model.LogisticRegression(**config['logistic_regression'])"
   ]
  },
  {
   "cell_type": "code",
   "execution_count": 68,
   "metadata": {},
   "outputs": [],
   "source": [
    "initial_features = ['visible_norm_range', 'log_entropy', 'IR_mean',\n",
    "    'entropy_x_contrast','IR_norm_range', 'visible_mean']"
   ]
  },
  {
   "cell_type": "code",
   "execution_count": 69,
   "metadata": {},
   "outputs": [
    {
     "data": {
      "text/plain": [
       "LogisticRegression(C=1.0, class_weight=None, dual=False, fit_intercept=False,\n",
       "                   intercept_scaling=1, l1_ratio=None, max_iter=100,\n",
       "                   multi_class='auto', n_jobs=None, penalty='l1',\n",
       "                   random_state=423, solver='liblinear', tol=0.0001, verbose=0,\n",
       "                   warm_start=False)"
      ]
     },
     "execution_count": 69,
     "metadata": {},
     "output_type": "execute_result"
    }
   ],
   "source": [
    "lr.fit(X_train[initial_features], y_train)"
   ]
  },
  {
   "cell_type": "code",
   "execution_count": 76,
   "metadata": {},
   "outputs": [],
   "source": [
    "ypred_proba_test = lr.predict_proba(X_test[initial_features])[:,1]\n",
    "ypred_bin_test = lr.predict(X_test[initial_features])"
   ]
  },
  {
   "cell_type": "code",
   "execution_count": 77,
   "metadata": {},
   "outputs": [],
   "source": [
    "auc = sklearn.metrics.roc_auc_score(y_test, ypred_proba_test)\n",
    "confusion = sklearn.metrics.confusion_matrix(y_test, ypred_bin_test)\n",
    "accuracy = sklearn.metrics.accuracy_score(y_test, ypred_bin_test)\n",
    "classification_report = sklearn.metrics.classification_report(y_test, ypred_bin_test)"
   ]
  },
  {
   "cell_type": "code",
   "execution_count": 80,
   "metadata": {},
   "outputs": [],
   "source": [
    "confusion_df = pd.DataFrame(confusion,\n",
    "                  index=['Actual negative','Actual positive'],\n",
    "                  columns=['Predicted negative', 'Predicted positive'])"
   ]
  },
  {
   "cell_type": "code",
   "execution_count": 91,
   "metadata": {},
   "outputs": [],
   "source": [
    "directory = \"something_\"\n",
    "text_file = open(directory + \"metrics.txt\", \"w\")\n",
    "text_file.write(\"AUC: {} \\n\".format(round(auc,3)))\n",
    "text_file.write(\"Accuracy: {} \\n\\n\".format(round(accuracy,3)))\n",
    "text_file.write(classification_report)\n",
    "text_file.close()"
   ]
  },
  {
   "cell_type": "code",
   "execution_count": 82,
   "metadata": {},
   "outputs": [
    {
     "data": {
      "text/html": [
       "<div>\n",
       "<style scoped>\n",
       "    .dataframe tbody tr th:only-of-type {\n",
       "        vertical-align: middle;\n",
       "    }\n",
       "\n",
       "    .dataframe tbody tr th {\n",
       "        vertical-align: top;\n",
       "    }\n",
       "\n",
       "    .dataframe thead th {\n",
       "        text-align: right;\n",
       "    }\n",
       "</style>\n",
       "<table border=\"1\" class=\"dataframe\">\n",
       "  <thead>\n",
       "    <tr style=\"text-align: right;\">\n",
       "      <th></th>\n",
       "      <th>coefs</th>\n",
       "      <th>odds_ratio</th>\n",
       "    </tr>\n",
       "  </thead>\n",
       "  <tbody>\n",
       "    <tr>\n",
       "      <th>visible_mean</th>\n",
       "      <td>0.066825</td>\n",
       "      <td>1.069109</td>\n",
       "    </tr>\n",
       "    <tr>\n",
       "      <th>visible_norm_range</th>\n",
       "      <td>0.063088</td>\n",
       "      <td>1.065120</td>\n",
       "    </tr>\n",
       "    <tr>\n",
       "      <th>IR_norm_range</th>\n",
       "      <td>-0.008238</td>\n",
       "      <td>0.991795</td>\n",
       "    </tr>\n",
       "    <tr>\n",
       "      <th>entropy_x_contrast</th>\n",
       "      <td>-0.017736</td>\n",
       "      <td>0.982420</td>\n",
       "    </tr>\n",
       "    <tr>\n",
       "      <th>IR_mean</th>\n",
       "      <td>-0.060727</td>\n",
       "      <td>0.941080</td>\n",
       "    </tr>\n",
       "  </tbody>\n",
       "</table>\n",
       "</div>"
      ],
      "text/plain": [
       "                       coefs  odds_ratio\n",
       "visible_mean        0.066825    1.069109\n",
       "visible_norm_range  0.063088    1.065120\n",
       "IR_norm_range      -0.008238    0.991795\n",
       "entropy_x_contrast -0.017736    0.982420\n",
       "IR_mean            -0.060727    0.941080"
      ]
     },
     "execution_count": 82,
     "metadata": {},
     "output_type": "execute_result"
    }
   ],
   "source": [
    "fitted = pd.DataFrame(index=initial_features)\n",
    "\n",
    "fitted['coefs'] = lr.coef_[0]\n",
    "\n",
    "fitted['odds_ratio'] = fitted.coefs.apply(np.exp)\n",
    "\n",
    "fitted = fitted.sort_values(by='odds_ratio', ascending=False)\n",
    "\n",
    "fitted.head()"
   ]
  },
  {
   "cell_type": "code",
   "execution_count": 3,
   "metadata": {},
   "outputs": [],
   "source": [
    "kwargs = {'tiff':112,\n",
    "        'brian':421,\n",
    "         'something':'okiedokie'}"
   ]
  },
  {
   "cell_type": "code",
   "execution_count": 8,
   "metadata": {},
   "outputs": [
    {
     "ename": "TypeError",
     "evalue": "can only concatenate str (not \"int\") to str",
     "output_type": "error",
     "traceback": [
      "\u001b[0;31m---------------------------------------------------------------------------\u001b[0m",
      "\u001b[0;31mTypeError\u001b[0m                                 Traceback (most recent call last)",
      "\u001b[0;32m<ipython-input-8-e2b2907cbac9>\u001b[0m in \u001b[0;36m<module>\u001b[0;34m\u001b[0m\n\u001b[1;32m      6\u001b[0m     \u001b[0;32mreturn\u001b[0m \u001b[0mresult\u001b[0m\u001b[0;34m\u001b[0m\u001b[0;34m\u001b[0m\u001b[0m\n\u001b[1;32m      7\u001b[0m \u001b[0;34m\u001b[0m\u001b[0m\n\u001b[0;32m----> 8\u001b[0;31m \u001b[0mresult\u001b[0m \u001b[0;34m=\u001b[0m \u001b[0mtest\u001b[0m\u001b[0;34m(\u001b[0m\u001b[0;34m**\u001b[0m\u001b[0mkwargs\u001b[0m\u001b[0;34m)\u001b[0m\u001b[0;34m\u001b[0m\u001b[0;34m\u001b[0m\u001b[0m\n\u001b[0m\u001b[1;32m      9\u001b[0m \u001b[0mprint\u001b[0m\u001b[0;34m(\u001b[0m\u001b[0mresult\u001b[0m\u001b[0;34m)\u001b[0m\u001b[0;34m\u001b[0m\u001b[0;34m\u001b[0m\u001b[0m\n",
      "\u001b[0;32m<ipython-input-8-e2b2907cbac9>\u001b[0m in \u001b[0;36mtest\u001b[0;34m(**kwarrgs)\u001b[0m\n\u001b[1;32m      3\u001b[0m     \u001b[0;31m# Iterating over the Python kwargs dictionary\u001b[0m\u001b[0;34m\u001b[0m\u001b[0;34m\u001b[0m\u001b[0;34m\u001b[0m\u001b[0m\n\u001b[1;32m      4\u001b[0m     \u001b[0;32mfor\u001b[0m \u001b[0marg\u001b[0m \u001b[0;32min\u001b[0m \u001b[0mkwargs\u001b[0m\u001b[0;34m.\u001b[0m\u001b[0mvalues\u001b[0m\u001b[0;34m(\u001b[0m\u001b[0;34m)\u001b[0m\u001b[0;34m:\u001b[0m\u001b[0;34m\u001b[0m\u001b[0;34m\u001b[0m\u001b[0m\n\u001b[0;32m----> 5\u001b[0;31m         \u001b[0mresult\u001b[0m \u001b[0;34m+=\u001b[0m \u001b[0marg\u001b[0m\u001b[0;34m\u001b[0m\u001b[0;34m\u001b[0m\u001b[0m\n\u001b[0m\u001b[1;32m      6\u001b[0m     \u001b[0;32mreturn\u001b[0m \u001b[0mresult\u001b[0m\u001b[0;34m\u001b[0m\u001b[0;34m\u001b[0m\u001b[0m\n\u001b[1;32m      7\u001b[0m \u001b[0;34m\u001b[0m\u001b[0m\n",
      "\u001b[0;31mTypeError\u001b[0m: can only concatenate str (not \"int\") to str"
     ]
    }
   ],
   "source": [
    "def test(**kwarrgs):\n",
    "    result = \"\"\n",
    "    # Iterating over the Python kwargs dictionary\n",
    "    for arg in kwargs.values():\n",
    "        result += arg\n",
    "    return result\n",
    "\n",
    "result = test(**kwargs)\n",
    "print(result)"
   ]
  },
  {
   "cell_type": "code",
   "execution_count": 6,
   "metadata": {},
   "outputs": [
    {
     "ename": "NameError",
     "evalue": "name 'tiff' is not defined",
     "output_type": "error",
     "traceback": [
      "\u001b[0;31m---------------------------------------------------------------------------\u001b[0m",
      "\u001b[0;31mNameError\u001b[0m                                 Traceback (most recent call last)",
      "\u001b[0;32m<ipython-input-6-5133cf93430f>\u001b[0m in \u001b[0;36m<module>\u001b[0;34m\u001b[0m\n\u001b[0;32m----> 1\u001b[0;31m \u001b[0mtest\u001b[0m\u001b[0;34m(\u001b[0m\u001b[0;34m**\u001b[0m\u001b[0mkwargs\u001b[0m\u001b[0;34m)\u001b[0m\u001b[0;34m\u001b[0m\u001b[0;34m\u001b[0m\u001b[0m\n\u001b[0m",
      "\u001b[0;32m<ipython-input-5-916f4979ce3b>\u001b[0m in \u001b[0;36mtest\u001b[0;34m(**kwarrgs)\u001b[0m\n\u001b[1;32m      1\u001b[0m \u001b[0;32mdef\u001b[0m \u001b[0mtest\u001b[0m\u001b[0;34m(\u001b[0m\u001b[0;34m**\u001b[0m\u001b[0mkwarrgs\u001b[0m\u001b[0;34m)\u001b[0m\u001b[0;34m:\u001b[0m\u001b[0;34m\u001b[0m\u001b[0;34m\u001b[0m\u001b[0m\n\u001b[0;32m----> 2\u001b[0;31m     \u001b[0mprint\u001b[0m\u001b[0;34m(\u001b[0m\u001b[0mtiff\u001b[0m\u001b[0;34m)\u001b[0m\u001b[0;34m\u001b[0m\u001b[0;34m\u001b[0m\u001b[0m\n\u001b[0m",
      "\u001b[0;31mNameError\u001b[0m: name 'tiff' is not defined"
     ]
    }
   ],
   "source": [
    "test(**kwargs)"
   ]
  },
  {
   "cell_type": "code",
   "execution_count": 10,
   "metadata": {},
   "outputs": [
    {
     "name": "stdout",
     "output_type": "stream",
     "text": [
      "folder1/folder2\n"
     ]
    }
   ],
   "source": [
    "folder1 = 'folder1'\n",
    "folder2 = 'folder2'\n",
    "print(folder1 +'/'+ folder2)"
   ]
  },
  {
   "cell_type": "code",
   "execution_count": 12,
   "metadata": {},
   "outputs": [],
   "source": [
    "root = Path(\".\")"
   ]
  },
  {
   "cell_type": "code",
   "execution_count": 16,
   "metadata": {},
   "outputs": [
    {
     "data": {
      "text/plain": [
       "PosixPath('folder1/folder2')"
      ]
     },
     "execution_count": 16,
     "metadata": {},
     "output_type": "execute_result"
    }
   ],
   "source": [
    "root / (folder1 + \"/\" + folder2)"
   ]
  },
  {
   "cell_type": "code",
   "execution_count": 18,
   "metadata": {},
   "outputs": [
    {
     "ename": "NameError",
     "evalue": "name 'model' is not defined",
     "output_type": "error",
     "traceback": [
      "\u001b[0;31m---------------------------------------------------------------------------\u001b[0m",
      "\u001b[0;31mNameError\u001b[0m                                 Traceback (most recent call last)",
      "\u001b[0;32m<ipython-input-18-1f8a688cae5d>\u001b[0m in \u001b[0;36m<module>\u001b[0;34m\u001b[0m\n\u001b[0;32m----> 1\u001b[0;31m \u001b[0mmodel\u001b[0m\u001b[0;34m\u001b[0m\u001b[0;34m\u001b[0m\u001b[0m\n\u001b[0m",
      "\u001b[0;31mNameError\u001b[0m: name 'model' is not defined"
     ]
    }
   ],
   "source": [
    "model"
   ]
  },
  {
   "cell_type": "code",
   "execution_count": null,
   "metadata": {},
   "outputs": [],
   "source": []
  }
 ],
 "metadata": {
  "kernelspec": {
   "display_name": "Python 3",
   "language": "python",
   "name": "python3"
  },
  "language_info": {
   "codemirror_mode": {
    "name": "ipython",
    "version": 3
   },
   "file_extension": ".py",
   "mimetype": "text/x-python",
   "name": "python",
   "nbconvert_exporter": "python",
   "pygments_lexer": "ipython3",
   "version": "3.7.3"
  },
  "toc": {
   "base_numbering": 1,
   "nav_menu": {},
   "number_sections": true,
   "sideBar": true,
   "skip_h1_title": false,
   "title_cell": "Table of Contents",
   "title_sidebar": "Contents",
   "toc_cell": false,
   "toc_position": {},
   "toc_section_display": true,
   "toc_window_display": false
  },
  "varInspector": {
   "cols": {
    "lenName": 16,
    "lenType": 16,
    "lenVar": 40
   },
   "kernels_config": {
    "python": {
     "delete_cmd_postfix": "",
     "delete_cmd_prefix": "del ",
     "library": "var_list.py",
     "varRefreshCmd": "print(var_dic_list())"
    },
    "r": {
     "delete_cmd_postfix": ") ",
     "delete_cmd_prefix": "rm(",
     "library": "var_list.r",
     "varRefreshCmd": "cat(var_dic_list()) "
    }
   },
   "types_to_exclude": [
    "module",
    "function",
    "builtin_function_or_method",
    "instance",
    "_Feature"
   ],
   "window_display": false
  }
 },
 "nbformat": 4,
 "nbformat_minor": 4
}
